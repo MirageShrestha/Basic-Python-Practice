{
 "cells": [
  {
   "cell_type": "markdown",
   "id": "9r_Hqb02sdNj",
   "metadata": {
    "id": "9r_Hqb02sdNj"
   },
   "source": [
    "# bit.ly/pgs_py_2024"
   ]
  },
  {
   "cell_type": "code",
   "execution_count": 1,
   "id": "cKpswSvksW-y",
   "metadata": {
    "executionInfo": {
     "elapsed": 1581,
     "status": "ok",
     "timestamp": 1725330234281,
     "user": {
      "displayName": "Bishal Pande",
      "userId": "13379952514663770739"
     },
     "user_tz": -345
    },
    "id": "cKpswSvksW-y"
   },
   "outputs": [],
   "source": []
  },
  {
   "cell_type": "markdown",
   "id": "56ce3bbf-e1ee-4e82-a456-64a7e0afdc89",
   "metadata": {
    "id": "56ce3bbf-e1ee-4e82-a456-64a7e0afdc89"
   },
   "source": [
    "### For the following questions you can either create a function or consider the last line of your code as output"
   ]
  },
  {
   "cell_type": "markdown",
   "id": "b1f502f3-9c5c-4263-a949-b69ebcf31eff",
   "metadata": {
    "id": "b1f502f3-9c5c-4263-a949-b69ebcf31eff"
   },
   "source": [
    "1. Given a list nums, remove all instances of the value 3 and return the modified list.\n",
    "\n",
    "```python\n",
    "Input: nums = [1, 2, 3, 4, 3, 5]\n",
    "Output: [1, 2, 4, 5]\n",
    "```"
   ]
  },
  {
   "cell_type": "code",
   "execution_count": 12,
   "id": "c28023ab-c09e-49b7-b08e-b65b7dadc884",
   "metadata": {
    "id": "c28023ab-c09e-49b7-b08e-b65b7dadc884"
   },
   "outputs": [
    {
     "name": "stdout",
     "output_type": "stream",
     "text": [
      "[1, 2, 4, 5]\n"
     ]
    }
   ],
   "source": [
    "nums = [1, 2, 3, 4, 3, 5]\n",
    "for i in nums:\n",
    "    if i == 3:\n",
    "        nums.remove(i)\n",
    "print(nums)"
   ]
  },
  {
   "cell_type": "markdown",
   "id": "30707988-64b1-482a-87d5-bc0eee3063cd",
   "metadata": {
    "id": "30707988-64b1-482a-87d5-bc0eee3063cd"
   },
   "source": [
    "2. Given a tuple t, convert it into a list, append the value 50 to it, and return the modified list.\n",
    "\n",
    "```python\n",
    "Input: t = (10, 20, 30, 40)\n",
    "Output: [10, 20, 30, 40, 50]\n",
    "```"
   ]
  },
  {
   "cell_type": "code",
   "execution_count": 14,
   "id": "4dd18b9b-9fdb-4457-a780-3e9804c3d465",
   "metadata": {
    "id": "4dd18b9b-9fdb-4457-a780-3e9804c3d465"
   },
   "outputs": [
    {
     "name": "stdout",
     "output_type": "stream",
     "text": [
      "[10, 20, 30, 40, 50]\n"
     ]
    }
   ],
   "source": [
    "t = (10, 20, 30, 40)\n",
    "u = list(t)\n",
    "u.append(50)\n",
    "print(u)"
   ]
  },
  {
   "cell_type": "markdown",
   "id": "83fc13fa-8dfb-4c8a-8941-282c635551c8",
   "metadata": {
    "id": "83fc13fa-8dfb-4c8a-8941-282c635551c8"
   },
   "source": [
    "3. Create a tuple of length 1. Confirm your answer by talling the type of the variable you create.\n",
    "\n",
    "Similarly create empty tuple, set, and dictionary and verify it.\n",
    "\n",
    "```python\n",
    "type(a) == set\n",
    "```"
   ]
  },
  {
   "cell_type": "code",
   "execution_count": 32,
   "id": "1378e833-fc70-47c2-a18d-6a35d821f7f3",
   "metadata": {
    "id": "1378e833-fc70-47c2-a18d-6a35d821f7f3"
   },
   "outputs": [
    {
     "name": "stdout",
     "output_type": "stream",
     "text": [
      "<class 'tuple'>\n",
      "<class 'tuple'>\n",
      "<class 'dict'>\n",
      "<class 'list'>\n",
      "<class 'set'>\n"
     ]
    },
    {
     "data": {
      "text/plain": [
       "True"
      ]
     },
     "execution_count": 32,
     "metadata": {},
     "output_type": "execute_result"
    }
   ],
   "source": [
    "t = (1, 2, 3)\n",
    "print(type(t))\n",
    "u = (2, 4 ,5)\n",
    "z = { 3, 4 ,5}\n",
    "v = {3: 4,4: 5}\n",
    "x  =[4, 5]\n",
    "print(type(u))\n",
    "print(type(v))\n",
    "print(type(x))\n",
    "print(type(z))\n",
    "type(z)==set"
   ]
  },
  {
   "cell_type": "markdown",
   "id": "7042f547-1634-47a0-8dfc-38bb94d64386",
   "metadata": {
    "id": "7042f547-1634-47a0-8dfc-38bb94d64386"
   },
   "source": [
    "4. Given two sets set1 and set2, print the union, intersection, and difference between them.\n",
    "\n",
    "```python\n",
    "Input: set1 = {1, 2, 3}, set2 = {3, 4, 5}\n",
    "Output:\n",
    "Union: {1, 2, 3, 4, 5}\n",
    "Intersection: {3}\n",
    "Difference (set1 - set2): {1, 2}\n",
    "```"
   ]
  },
  {
   "cell_type": "code",
   "execution_count": 37,
   "id": "cc36e084-2e20-4612-a38c-d32851802283",
   "metadata": {
    "id": "cc36e084-2e20-4612-a38c-d32851802283"
   },
   "outputs": [
    {
     "name": "stdout",
     "output_type": "stream",
     "text": [
      "{1, 2, 3, 4, 5}\n",
      "{3}\n",
      "{1, 2}\n"
     ]
    }
   ],
   "source": [
    "set1 = {1, 2, 3} \n",
    "set2 = {3, 4, 5}\n",
    "un = set1.union(set2)\n",
    "ins = set1.intersection(set2)\n",
    "diff = set1-set2\n",
    "print (un)\n",
    "print (ins)\n",
    "print(diff)"
   ]
  },
  {
   "cell_type": "markdown",
   "id": "6f20f5f6-a914-4076-ba88-d1d83902d51b",
   "metadata": {
    "id": "6f20f5f6-a914-4076-ba88-d1d83902d51b"
   },
   "source": [
    "5. Given a list of integers nums, return a new list containing only the even numbers, maintaining the order.\n",
    "\n",
    "```python\n",
    "Input: nums = [1, 2, 3, 4, 5, 6]\n",
    "Output: [2, 4, 6]\n",
    "```"
   ]
  },
  {
   "cell_type": "code",
   "execution_count": 41,
   "id": "d323a056-d6cd-4b0d-a16c-e47cae4bf4fc",
   "metadata": {
    "id": "d323a056-d6cd-4b0d-a16c-e47cae4bf4fc"
   },
   "outputs": [
    {
     "name": "stdout",
     "output_type": "stream",
     "text": [
      "[2, 4, 6]\n"
     ]
    }
   ],
   "source": [
    "nums = [1, 2, 3, 4, 5, 6]\n",
    "n = []\n",
    "for i in nums:\n",
    "    if i%2==0:\n",
    "        n.append(i)\n",
    "print(n)"
   ]
  },
  {
   "cell_type": "markdown",
   "id": "6078c601-7814-4fd5-923e-ae7260749e5f",
   "metadata": {
    "id": "6078c601-7814-4fd5-923e-ae7260749e5f"
   },
   "source": [
    "6. Given a list of integers nums, return a dictionary where the keys are the items and the values are the counts of those items in the list.\n",
    "\n",
    "```python\n",
    "Input: nums = [1, 2, 2, 3, 3, 3, 4]\n",
    "Output: {1: 1, 2: 2, 3: 3, 4: 1}\n",
    "```"
   ]
  },
  {
   "cell_type": "code",
   "execution_count": 83,
   "id": "525ec4cf-7040-49f4-903e-f74bb390b79d",
   "metadata": {
    "id": "525ec4cf-7040-49f4-903e-f74bb390b79d"
   },
   "outputs": [
    {
     "name": "stdout",
     "output_type": "stream",
     "text": [
      "{1: 1, 2: 2, 3: 3, 4: 1}\n"
     ]
    }
   ],
   "source": [
    "nums = [1, 2, 2, 3, 3, 3, 4]\n",
    "d = {}\n",
    "for num in set(nums):\n",
    "    d[num] = nums.count(num)\n",
    "print(d)"
   ]
  },
  {
   "cell_type": "markdown",
   "id": "104cb868-c87d-451c-94c7-9bfd1911dfa8",
   "metadata": {
    "id": "104cb868-c87d-451c-94c7-9bfd1911dfa8"
   },
   "source": [
    "7. Given a list of words words, create a dictionary where each key is the first character of a word, and the value is a list of all words that start with that character.\n",
    "\n",
    "```python\n",
    "Input: words = [\"apple\", \"banana\", \"apricot\", \"blueberry\", \"cherry\", \"avocado\"]\n",
    "Output: {\n",
    "    'a': ['apple', 'apricot', 'avocado'],\n",
    "    'b': ['banana', 'blueberry'],\n",
    "    'c': ['cherry']\n",
    "}\n",
    "```\n"
   ]
  },
  {
   "cell_type": "code",
   "execution_count": 4,
   "id": "2848fab4-f112-4277-a79c-4c475c82ff2f",
   "metadata": {
    "id": "2848fab4-f112-4277-a79c-4c475c82ff2f"
   },
   "outputs": [
    {
     "name": "stdout",
     "output_type": "stream",
     "text": [
      "['apple', 'apricot', 'avocado']\n",
      "['banana', 'blueberry']\n",
      "['cherry']\n"
     ]
    }
   ],
   "source": [
    "words = [\"apple\", \"banana\", \"apricot\", \"blueberry\", \"cherry\", \"avocado\"]\n",
    "a=[]\n",
    "b=[]\n",
    "c=[]\n",
    "for word in words:\n",
    "    if word[0]=='a':\n",
    "        a.append(word)\n",
    "    elif word[0]=='b':\n",
    "        b.append(word)\n",
    "    elif word[0]=='c':\n",
    "        c.append(word)\n",
    "print (a)\n",
    "print(b)\n",
    "print(c)"
   ]
  },
  {
   "cell_type": "code",
   "execution_count": 24,
   "id": "033be131-d948-40f6-bc23-32a75d629fdf",
   "metadata": {},
   "outputs": [
    {
     "data": {
      "text/plain": [
       "{'a': ['apple', 'apricot', 'avocado'],\n",
       " 'b': ['banana', 'blueberry'],\n",
       " 'c': ['cherry']}"
      ]
     },
     "execution_count": 24,
     "metadata": {},
     "output_type": "execute_result"
    }
   ],
   "source": [
    "words = [\"apple\", \"banana\", \"apricot\", \"blueberry\", \"cherry\", \"avocado\"]\n",
    "fruits={}\n",
    "for word in words:\n",
    "    key = word[0]\n",
    "    if key in fruits:\n",
    "        fruits[key].append(word)\n",
    "    else:\n",
    "        fruits[key]=[word]\n",
    "fruits"
   ]
  },
  {
   "cell_type": "markdown",
   "id": "2e747061-90ea-4c16-a055-af43a51cf79c",
   "metadata": {
    "id": "2e747061-90ea-4c16-a055-af43a51cf79c"
   },
   "source": [
    "8. Given a list of integers nums, find and return the first repeating element. If no element repeats, return -1.\n",
    "\n",
    "```python\n",
    "Input: nums = [1, 2, 3, 4, 5, 3, 2]\n",
    "Output: 3\n",
    "\n",
    "Input: nums = [1, 2, 3, 4, 5]\n",
    "Output: -1\n",
    "```"
   ]
  },
  {
   "cell_type": "code",
   "execution_count": null,
   "id": "fcefec95-4b55-4e6d-bb94-efd1eb8ee8d7",
   "metadata": {
    "id": "5cf1fdad-514e-494f-a87b-20c59dc105bc"
   },
   "outputs": [],
   "source": [
    "nums = [1, 2, 3, 4, 5, 3, 2]\n"
   ]
  },
  {
   "cell_type": "markdown",
   "id": "6ebb2e7e-4231-47f0-866c-d03c6cf87d95",
   "metadata": {
    "id": "6ebb2e7e-4231-47f0-866c-d03c6cf87d95"
   },
   "source": [
    "9. Given a list of dictionaries where each dictionary represents a student with name and score keys, return the name of the student with the highest score.\n",
    "\n",
    "\n",
    "```python\n",
    "Input: students = [{\"name\": \"Alice\", \"score\": 85}, {\"name\": \"Bob\", \"score\": 90}, {\"name\": \"Charlie\", \"score\": 78}]\n",
    "Output: \"Bob\"\n",
    "```"
   ]
  },
  {
   "cell_type": "code",
   "execution_count": 39,
   "id": "cd9d410a-5411-4973-a0da-74e9b4ce40d5",
   "metadata": {
    "id": "cd9d410a-5411-4973-a0da-74e9b4ce40d5"
   },
   "outputs": [
    {
     "name": "stdout",
     "output_type": "stream",
     "text": [
      "Bob\n"
     ]
    }
   ],
   "source": [
    "students = [{\"name\": \"Alice\", \"score\": 85}, {\"name\": \"Bob\", \"score\": 90}, {\"name\": \"Charlie\", \"score\": 78}]\n",
    "high_score=0\n",
    "name=''\n",
    "for student in students:\n",
    "    if student['score']>high_score:\n",
    "        high_score = student['score']\n",
    "        name=student['name']\n",
    "print(name)"
   ]
  },
  {
   "cell_type": "markdown",
   "id": "8f77e716-39e6-4528-9f14-25d9c2b652a0",
   "metadata": {
    "id": "8f77e716-39e6-4528-9f14-25d9c2b652a0"
   },
   "source": [
    "10. Given a string s containing just the characters (, ), {, }, [ and ], determine if the input string is valid. An input string is valid if:\n",
    "\n",
    "Open brackets are closed by the same type of brackets.\n",
    "Open brackets are closed in the correct order.\n",
    "\n",
    "\n",
    "```python\n",
    "Input: s = \"()\"\n",
    "Output: True\n",
    "\n",
    "Input: s = \"([)]\"\n",
    "Output: False\n",
    "\n",
    "Input: s = \"{[]}\"\n",
    "Output: True\n",
    "\n",
    "```"
   ]
  },
  {
   "cell_type": "code",
   "execution_count": 41,
   "id": "e55dfd67-3620-44a8-af8c-27f86e4c385f",
   "metadata": {
    "id": "e55dfd67-3620-44a8-af8c-27f86e4c385f"
   },
   "outputs": [
    {
     "name": "stdin",
     "output_type": "stream",
     "text": [
      "brackets (hafjhkahd())))\n"
     ]
    },
    {
     "name": "stdout",
     "output_type": "stream",
     "text": [
      "false\n"
     ]
    }
   ],
   "source": [
    "brac = input('brackets')\n"
   ]
  },
  {
   "cell_type": "markdown",
   "id": "e245551e-3cf0-47b4-a323-306f860dfc5a",
   "metadata": {
    "id": "e245551e-3cf0-47b4-a323-306f860dfc5a"
   },
   "source": [
    "11. Given a list of integers nums, return the sum of all possible pairs in the list. A pair is defined as two different elements (nums[i], nums[j]) where i < j.\n",
    "```python\n",
    "Input: nums = [1, 2, 3]\n",
    "Output: 11\n",
    "Explanation: The pairs are (1,2), (1,3), and (2,3). Their sums are 3, 4, and 4, respectively. So, the total sum is 3 + 4 + 4 = 11.\n",
    "```"
   ]
  },
  {
   "cell_type": "code",
   "execution_count": 53,
   "id": "76646d73-fac6-421e-bd46-35fcadc10f08",
   "metadata": {
    "id": "76646d73-fac6-421e-bd46-35fcadc10f08"
   },
   "outputs": [
    {
     "name": "stdout",
     "output_type": "stream",
     "text": [
      "0 apple\n",
      "1 banana\n",
      "2 cherry\n"
     ]
    }
   ],
   "source": [
    "fruits = ['apple', 'banana', 'cherry']\n",
    "\n",
    "for index, fruit in enumerate(fruits):\n",
    "    print(index, fruit)"
   ]
  }
 ],
 "metadata": {
  "colab": {
   "provenance": []
  },
  "kernelspec": {
   "display_name": "Python 3 (ipykernel)",
   "language": "python",
   "name": "python3"
  },
  "language_info": {
   "codemirror_mode": {
    "name": "ipython",
    "version": 3
   },
   "file_extension": ".py",
   "mimetype": "text/x-python",
   "name": "python",
   "nbconvert_exporter": "python",
   "pygments_lexer": "ipython3",
   "version": "3.8.10"
  }
 },
 "nbformat": 4,
 "nbformat_minor": 5
}
