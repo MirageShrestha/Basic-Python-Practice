{
 "cells": [
  {
   "cell_type": "code",
   "execution_count": 3,
   "id": "beb5d6ca-c243-4204-8e4c-5be76165f269",
   "metadata": {},
   "outputs": [
    {
     "name": "stdout",
     "output_type": "stream",
     "text": [
      "Hello World\n"
     ]
    }
   ],
   "source": [
    "#print Hello World\n",
    "print ('Hello World')"
   ]
  },
  {
   "cell_type": "code",
   "execution_count": 8,
   "id": "6c2f6f19-8c76-4403-a129-18c14860e5fb",
   "metadata": {},
   "outputs": [
    {
     "name": "stdout",
     "output_type": "stream",
     "text": [
      "my name is mirage \\' siuuu\n"
     ]
    }
   ],
   "source": [
    "print(\"my name is mirage \\\\' siuuu\")"
   ]
  },
  {
   "cell_type": "code",
   "execution_count": 10,
   "id": "ab812376-28da-4b0f-976f-6f94cadd41f6",
   "metadata": {},
   "outputs": [
    {
     "name": "stdin",
     "output_type": "stream",
     "text": [
      "what is your name? mirage\n"
     ]
    },
    {
     "data": {
      "text/plain": [
       "'mirage'"
      ]
     },
     "execution_count": 10,
     "metadata": {},
     "output_type": "execute_result"
    }
   ],
   "source": [
    "input('what is your name?')"
   ]
  },
  {
   "cell_type": "code",
   "execution_count": 13,
   "id": "cb104baf-6c4b-4bdd-9955-ef6483029b5f",
   "metadata": {},
   "outputs": [],
   "source": [
    "# valid variable\n",
    "a = 1\n",
    "b = '2024'\n",
    "name = 'sammy'\n",
    "first_name = 'mirage'"
   ]
  },
  {
   "cell_type": "code",
   "execution_count": 18,
   "id": "b416e347-4797-4b9a-a241-8f8f05bb224f",
   "metadata": {},
   "outputs": [
    {
     "name": "stdin",
     "output_type": "stream",
     "text": [
      "what is your name? mirage\n",
      "age 20\n",
      "DOB 2004\n",
      "Czn 545465\n"
     ]
    },
    {
     "name": "stdout",
     "output_type": "stream",
     "text": [
      "Name: mirage \n",
      "Age: 20 \n",
      "DOB: 2004 \n",
      "Czn: 545465\n",
      "age after 10 yrs: 30\n"
     ]
    }
   ],
   "source": [
    "name = input('what is your name?')\n",
    "age = input('age')\n",
    "DOB = input('DOB')\n",
    "Czn = input('Czn')\n",
    "print(f'Name: {name} \\nAge: {age} \\nDOB: {DOB} \\nCzn: {Czn}')\n",
    "\n",
    "ageaf10 = int(age) + 10\n",
    "print(f'age after 10 yrs: {ageaf10}')"
   ]
  },
  {
   "cell_type": "code",
   "execution_count": 19,
   "id": "dd3f4969-e898-4c4b-8641-5d691e448add",
   "metadata": {},
   "outputs": [
    {
     "name": "stdin",
     "output_type": "stream",
     "text": [
      "enter number:  11\n"
     ]
    },
    {
     "name": "stdout",
     "output_type": "stream",
     "text": [
      "odd\n"
     ]
    }
   ],
   "source": [
    "n = int(input('enter number: '))\n",
    "if n % 2 == 0:\n",
    "    print('even')\n",
    "else:\n",
    "    print('odd')"
   ]
  },
  {
   "cell_type": "code",
   "execution_count": 30,
   "id": "23dc64d4-c79f-4bf2-9541-366662086f00",
   "metadata": {},
   "outputs": [
    {
     "name": "stdin",
     "output_type": "stream",
     "text": [
      "marks: 22\n"
     ]
    },
    {
     "name": "stdout",
     "output_type": "stream",
     "text": [
      "low\n"
     ]
    }
   ],
   "source": [
    "marks=int(input('marks:'))\n",
    "if 0<marks<40:\n",
    "         print('low')\n",
    "elif 40<marks<70:\n",
    "         print('mid')\n",
    "else:\n",
    "         print('high')\n",
    "    "
   ]
  },
  {
   "cell_type": "code",
   "execution_count": 3,
   "id": "a881f184-19b5-4b89-85cd-8f16c356c019",
   "metadata": {},
   "outputs": [
    {
     "name": "stdout",
     "output_type": "stream",
     "text": [
      "0\n",
      "2\n",
      "4\n",
      "6\n",
      "8\n"
     ]
    }
   ],
   "source": [
    "a = 1\n",
    "for i in range(10):\n",
    "    print(a)\n",
    "for i in range(10):\n",
    "    if i%2==0:\n",
    "        print(i)"
   ]
  },
  {
   "cell_type": "code",
   "execution_count": 13,
   "id": "12f6b891-33da-4ccf-b4bd-e9e4955fa5e6",
   "metadata": {},
   "outputs": [
    {
     "name": "stdout",
     "output_type": "stream",
     "text": [
      "10.9.8.7.6.5.4.3.2.1"
     ]
    }
   ],
   "source": [
    "for i in range(10, 0, -1):\n",
    "    if i!=1:\n",
    "        print(i, end=\".\")\n",
    "    else:\n",
    "        print(i, end=\"\")"
   ]
  },
  {
   "cell_type": "code",
   "execution_count": 21,
   "id": "c20024ba-d713-484b-90f5-0e33e84d47b1",
   "metadata": {
    "scrolled": true
   },
   "outputs": [
    {
     "name": "stdout",
     "output_type": "stream",
     "text": [
      "1 2 3 4 5 \n",
      "\n",
      "6 7 8 9 10 \n",
      "\n",
      "11 12 13 14 15 \n",
      "\n",
      "16 17 18 19 20 \n",
      "\n",
      "21 22 23 24 25 \n",
      "\n"
     ]
    }
   ],
   "source": [
    "for i in range(1, 26):\n",
    "    print(i, end = \" \")\n",
    "    if i%5==0:\n",
    "        print(\"\\n\")\n",
    "        "
   ]
  },
  {
   "cell_type": "code",
   "execution_count": 57,
   "id": "94fd858f-095b-472d-932b-8c4f53b0664f",
   "metadata": {},
   "outputs": [
    {
     "name": "stdout",
     "output_type": "stream",
     "text": [
      "11111\n",
      "1111\n",
      "111\n",
      "11\n",
      "1\n"
     ]
    }
   ],
   "source": [
    "c = '1'\n",
    "for i in range(6, 1, -1):\n",
    "    for j in range(1, i):\n",
    "        print(c, end=\"\")\n",
    "    print(\"\")  \n"
   ]
  },
  {
   "cell_type": "code",
   "execution_count": 67,
   "id": "d0a0f8fa-b509-41e7-b941-067b23f7800c",
   "metadata": {},
   "outputs": [
    {
     "name": "stdout",
     "output_type": "stream",
     "text": [
      "3 fizz\n",
      "5 buzz\n",
      "6 fizz\n",
      "9 fizz\n",
      "10 buzz\n",
      "12 fizz\n",
      "15 fizzbuzz\n",
      "18 fizz\n",
      "20 buzz\n"
     ]
    }
   ],
   "source": [
    "for i in range(1, 21):\n",
    "    if (i%5==0) & (i%3==0):\n",
    "        print(i, 'fizzbuzz')\n",
    "    elif i%3==0:\n",
    "        print(i, 'fizz')\n",
    "    elif i%5==0:\n",
    "        print(i, 'buzz')"
   ]
  },
  {
   "cell_type": "markdown",
   "id": "a1b5c288-3bfd-436c-b732-d9a413a39cdd",
   "metadata": {},
   "source": [
    "<h2>hw fibonacci</h2>"
   ]
  },
  {
   "cell_type": "code",
   "execution_count": 18,
   "id": "971e02fe-d088-45da-becb-f468f08c2794",
   "metadata": {},
   "outputs": [
    {
     "name": "stdout",
     "output_type": "stream",
     "text": [
      "0 1 1 2 3 5 8 13 21 34 "
     ]
    }
   ],
   "source": [
    "a, b = 0, 1\n",
    "for _ in range(10):\n",
    "    print(a, end=\" \")\n",
    "    a, b = b, a + b\n"
   ]
  },
  {
   "cell_type": "code",
   "execution_count": 3,
   "id": "0f4e9a2c-dda7-472e-b6ff-d0c292cb3fc4",
   "metadata": {},
   "outputs": [
    {
     "name": "stdout",
     "output_type": "stream",
     "text": [
      "1\n",
      "0\n"
     ]
    }
   ],
   "source": [
    "a, b= 0,1 \n",
    "a,b=b,a\n",
    "print (a)\n",
    "print (b)"
   ]
  },
  {
   "cell_type": "code",
   "execution_count": 10,
   "id": "92eac0ce-91c7-4f86-8724-ca270c02c816",
   "metadata": {},
   "outputs": [
    {
     "name": "stdout",
     "output_type": "stream",
     "text": [
      "prime\n"
     ]
    }
   ],
   "source": [
    "n= 17\n",
    "a = 0\n",
    "for i in range(2, n):\n",
    "    if n%i==0:\n",
    "        a = 1\n",
    "if a == 1:\n",
    "    print('no prime')\n",
    "else:\n",
    "    print('prime')"
   ]
  },
  {
   "cell_type": "code",
   "execution_count": 20,
   "id": "e607b353-b96f-480e-95d1-f89013fb50a3",
   "metadata": {},
   "outputs": [
    {
     "name": "stdout",
     "output_type": "stream",
     "text": [
      "1\n",
      "3\n",
      "5\n",
      "7\n",
      "9\n"
     ]
    }
   ],
   "source": [
    "for i in range(10):\n",
    "    if i%2 == 0:\n",
    "        continue\n",
    "    print(i)"
   ]
  },
  {
   "cell_type": "code",
   "execution_count": null,
   "id": "8d5dfcb8-c1e0-4fc2-9b32-c9831c0881b5",
   "metadata": {},
   "outputs": [],
   "source": [
    "Function takes certain parameter as input\n",
    "returns some output\n",
    "\n",
    "SYNTAX\n",
    "'''\n",
    "def func_name(argument/s):\n",
    "    statements\n",
    "    return(value)\n",
    "'''"
   ]
  },
  {
   "cell_type": "code",
   "execution_count": 26,
   "id": "319d95d7-e932-4d39-b8d1-0ae1022da98f",
   "metadata": {},
   "outputs": [
    {
     "name": "stdin",
     "output_type": "stream",
     "text": [
      "n 17\n"
     ]
    },
    {
     "data": {
      "text/plain": [
       "True"
      ]
     },
     "execution_count": 26,
     "metadata": {},
     "output_type": "execute_result"
    }
   ],
   "source": [
    "def is_prime(n):\n",
    "    a = 0\n",
    "    for i in range(2, n):\n",
    "        if n%i==0:\n",
    "            a == 1\n",
    "            break\n",
    "    if a == 1:\n",
    "        return False\n",
    "    else:\n",
    "        return True\n",
    "n=int(input('n'))\n",
    "is_prime(n)"
   ]
  },
  {
   "cell_type": "code",
   "execution_count": 34,
   "id": "6e5fc312-ddc1-4592-b812-b109cfe71836",
   "metadata": {},
   "outputs": [
    {
     "name": "stdout",
     "output_type": "stream",
     "text": [
      "mirage am I.\n"
     ]
    }
   ],
   "source": [
    "def rev(sentence):\n",
    "    words=[]\n",
    "    for word in sentence.split(' '):\n",
    "        words.append(word)\n",
    "    terminator = ''\n",
    "    if words[-1].endswith('.') or words[-1].endswith('?'):\n",
    "        terminator = words[-1][-1]\n",
    "        words[-1]=words[-1][:-1]\n",
    "    words.reverse()\n",
    "    new_sentence = ' '.join(words)\n",
    "    new_sentence=new_sentence+terminator\n",
    "    print(new_sentence)\n",
    "\n",
    "rev('I am mirage.')"
   ]
  },
  {
   "cell_type": "code",
   "execution_count": 5,
   "id": "b398338e-e068-4f06-bcc3-513ef207deeb",
   "metadata": {},
   "outputs": [
    {
     "name": "stdout",
     "output_type": "stream",
     "text": [
      "1\n",
      "2\n",
      "3\n",
      "4\n",
      "5\n",
      "6\n",
      "7\n",
      "8\n",
      "9\n",
      "10\n"
     ]
    }
   ],
   "source": [
    "n=1\n",
    "while n<=10:\n",
    "    print(n)\n",
    "    n+=1"
   ]
  },
  {
   "cell_type": "code",
   "execution_count": 9,
   "id": "ac643f21-81a5-4767-bbcb-24f62918aaf6",
   "metadata": {},
   "outputs": [
    {
     "name": "stdin",
     "output_type": "stream",
     "text": [
      "Enter a char or q to quit q\n"
     ]
    },
    {
     "name": "stdout",
     "output_type": "stream",
     "text": [
      "ended\n"
     ]
    }
   ],
   "source": [
    "while True:\n",
    "    char = input(\"Enter a char or q to quit\")\n",
    "    if char == 'q':\n",
    "        print('ended')\n",
    "        break\n",
    "    print (char)"
   ]
  },
  {
   "cell_type": "code",
   "execution_count": 11,
   "id": "3e3f1b17-a702-4b20-8dc9-ee6c6ade2ba9",
   "metadata": {},
   "outputs": [
    {
     "name": "stdout",
     "output_type": "stream",
     "text": [
      "1\n",
      "2\n",
      "3\n",
      "4\n",
      "5\n",
      "6\n",
      "7\n",
      "8\n",
      "9\n",
      "10\n"
     ]
    }
   ],
   "source": [
    "i = 0\n",
    "while i<10:\n",
    "    print(i+1)\n",
    "    i = i + 1"
   ]
  },
  {
   "cell_type": "code",
   "execution_count": 15,
   "id": "db9e5d46-6328-4cd7-a75f-143eef7e8eab",
   "metadata": {},
   "outputs": [],
   "source": [
    "def function(a,b):\n",
    "    print(a+b)"
   ]
  },
  {
   "cell_type": "code",
   "execution_count": 16,
   "id": "4062c076-8061-45c0-8ca9-2932e7c63dcb",
   "metadata": {},
   "outputs": [
    {
     "name": "stdout",
     "output_type": "stream",
     "text": [
      "AB\n"
     ]
    }
   ],
   "source": [
    "function('A', 'B')"
   ]
  },
  {
   "cell_type": "code",
   "execution_count": 18,
   "id": "7d72572b-9a13-491d-941a-5ffa6aedeb04",
   "metadata": {},
   "outputs": [],
   "source": [
    "def function(a,b,c):\n",
    "    res = a+b\n",
    "    if c:\n",
    "        res=res*c\n",
    "    return res"
   ]
  },
  {
   "cell_type": "code",
   "execution_count": 19,
   "id": "ea9fab4c-0428-4322-9fc5-5731b743b833",
   "metadata": {},
   "outputs": [
    {
     "data": {
      "text/plain": [
       "9"
      ]
     },
     "execution_count": 19,
     "metadata": {},
     "output_type": "execute_result"
    }
   ],
   "source": [
    "function(1,2,3)"
   ]
  },
  {
   "cell_type": "code",
   "execution_count": 5,
   "id": "c6e6e50b-b346-4d49-9523-860054f68738",
   "metadata": {},
   "outputs": [
    {
     "name": "stdout",
     "output_type": "stream",
     "text": [
      "MMMDXLIX\n"
     ]
    }
   ],
   "source": [
    "def int_to_roman(num):\n",
    "    val = [\n",
    "        1000, 900, 500, 400,\n",
    "        100, 90, 50, 40,\n",
    "        10, 9, 5, 4,\n",
    "        1\n",
    "        ]\n",
    "    syb = [\n",
    "        \"M\", \"CM\", \"D\", \"CD\",\n",
    "        \"C\", \"XC\", \"L\", \"XL\",\n",
    "        \"X\", \"IX\", \"V\", \"IV\",\n",
    "        \"I\"\n",
    "        ]\n",
    "    roman_num = ''\n",
    "    i = 0\n",
    "    while num > 0:\n",
    "        for _ in range(num // val[i]):\n",
    "            roman_num += syb[i]\n",
    "            num -= val[i]\n",
    "        i += 1\n",
    "    return roman_num\n",
    "\n",
    "print(int_to_roman(3549))  \n"
   ]
  },
  {
   "cell_type": "code",
   "execution_count": 6,
   "id": "a0939c03-8ae2-41ee-8f86-2f47eb8b1b24",
   "metadata": {},
   "outputs": [
    {
     "name": "stdin",
     "output_type": "stream",
     "text": [
      "Enter a string:  Mirage\n"
     ]
    },
    {
     "name": "stdout",
     "output_type": "stream",
     "text": [
      "Number of vowels: 3\n"
     ]
    }
   ],
   "source": [
    "input_string = input(\"Enter a string: \")\n",
    "vowel_count = 0\n",
    "for char in input_string:\n",
    "    if char == 'a' or char == 'A':\n",
    "        vowel_count += 1\n",
    "    elif char == 'e' or char == 'E':\n",
    "        vowel_count += 1\n",
    "    elif char == 'i' or char == 'I':\n",
    "        vowel_count += 1\n",
    "    elif char == 'o' or char == 'O':\n",
    "        vowel_count += 1\n",
    "    elif char == 'u' or char == 'U':\n",
    "        vowel_count += 1\n",
    "print(\"Number of vowels:\", vowel_count)\n"
   ]
  },
  {
   "cell_type": "code",
   "execution_count": null,
   "id": "787e6fdc-6519-47a3-b12b-29bd76201614",
   "metadata": {},
   "outputs": [],
   "source": []
  }
 ],
 "metadata": {
  "kernelspec": {
   "display_name": "Python 3 (ipykernel)",
   "language": "python",
   "name": "python3"
  },
  "language_info": {
   "codemirror_mode": {
    "name": "ipython",
    "version": 3
   },
   "file_extension": ".py",
   "mimetype": "text/x-python",
   "name": "python",
   "nbconvert_exporter": "python",
   "pygments_lexer": "ipython3",
   "version": "3.8.10"
  }
 },
 "nbformat": 4,
 "nbformat_minor": 5
}
