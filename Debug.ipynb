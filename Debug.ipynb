{
 "cells": [
  {
   "cell_type": "code",
   "execution_count": 4,
   "id": "788fd7dd-93a4-4c4c-8939-696fd4c29eee",
   "metadata": {},
   "outputs": [
    {
     "name": "stdin",
     "output_type": "stream",
     "text": [
      "Enter a number 9\n"
     ]
    },
    {
     "name": "stdout",
     "output_type": "stream",
     "text": [
      "not prime\n"
     ]
    }
   ],
   "source": [
    "n = int(input('Enter a number'))\n",
    "p=0\n",
    "for i in range(1,n):\n",
    "    if n%i==0:\n",
    "        p+=1\n",
    "if p==1: \n",
    "    print('prime')\n",
    "else:\n",
    "    print('not prime')"
   ]
  },
  {
   "cell_type": "code",
   "execution_count": 13,
   "id": "ed699a37-83b6-4e85-81f9-91a39298999d",
   "metadata": {},
   "outputs": [
    {
     "name": "stdout",
     "output_type": "stream",
     "text": [
      "prime\n"
     ]
    }
   ],
   "source": [
    "def is_prime(num):\n",
    "    if num < 2:\n",
    "        return 'not prime'\n",
    "    for i in range(2, num):\n",
    "        if num % i == 0:\n",
    "            return 'not prime'\n",
    "    return 'prime'\n",
    "\n",
    "print(is_prime(7))  # Output will be False because 9 is not prime\n"
   ]
  },
  {
   "cell_type": "code",
   "execution_count": 18,
   "id": "eb951c12-7f18-4b57-afed-ec904ecce3c1",
   "metadata": {},
   "outputs": [
    {
     "name": "stdin",
     "output_type": "stream",
     "text": [
      "Enter a number:  9\n"
     ]
    },
    {
     "name": "stdout",
     "output_type": "stream",
     "text": [
      "9 is not a prime number.\n"
     ]
    }
   ],
   "source": [
    "def is_prime(num):\n",
    "    if num < 2:\n",
    "        return False\n",
    "    for i in range(2, num):\n",
    "        if num % i == 0:\n",
    "            return False\n",
    "    return True\n",
    "\n",
    "num = int(input(\"Enter a number: \"))\n",
    "if is_prime(num):\n",
    "    print(f\"{num} is a prime number.\")\n",
    "else:\n",
    "    print(f\"{num} is not a prime number.\")\n"
   ]
  },
  {
   "cell_type": "code",
   "execution_count": 19,
   "id": "dc4fbed7-5133-4c38-aba5-6b8b4446da9a",
   "metadata": {},
   "outputs": [
    {
     "name": "stdin",
     "output_type": "stream",
     "text": [
      "Enter a number:  9\n"
     ]
    },
    {
     "name": "stderr",
     "output_type": "stream",
     "text": [
      "2024-09-26 08:56:49,516 - DEBUG - Checking if 9 is a prime number\n",
      "2024-09-26 08:56:49,517 - DEBUG - Checking if 9 is divisible by 2\n",
      "2024-09-26 08:56:49,518 - DEBUG - Checking if 9 is divisible by 3\n",
      "2024-09-26 08:56:49,519 - DEBUG - 9 is divisible by 3, so it is not a prime number.\n"
     ]
    },
    {
     "name": "stdout",
     "output_type": "stream",
     "text": [
      "9 is not a prime number.\n"
     ]
    }
   ],
   "source": [
    "import math\n",
    "import logging\n",
    "\n",
    "# Configure logging\n",
    "logging.basicConfig(level=logging.DEBUG, format='%(asctime)s - %(levelname)s - %(message)s')\n",
    "\n",
    "def is_prime(num):\n",
    "    logging.debug(f\"Checking if {num} is a prime number\")\n",
    "    \n",
    "    if num < 2:\n",
    "        logging.debug(f\"{num} is less than 2, not a prime number.\")\n",
    "        return False\n",
    "    \n",
    "    for i in range(2, int(math.sqrt(num)) + 1):\n",
    "        logging.debug(f\"Checking if {num} is divisible by {i}\")\n",
    "        if num % i == 0:\n",
    "            logging.debug(f\"{num} is divisible by {i}, so it is not a prime number.\")\n",
    "            return False\n",
    "    \n",
    "    logging.debug(f\"{num} is a prime number.\")\n",
    "    return True\n",
    "\n",
    "# Get user input and validate it\n",
    "try:\n",
    "    num = int(input(\"Enter a number: \"))\n",
    "    if is_prime(num):\n",
    "        print(f\"{num} is a prime number.\")\n",
    "    else:\n",
    "        print(f\"{num} is not a prime number.\")\n",
    "except ValueError:\n",
    "    logging.error(\"Invalid input! Please enter a valid integer.\")\n",
    "    print(\"Please enter a valid integer.\")\n"
   ]
  },
  {
   "cell_type": "code",
   "execution_count": null,
   "id": "8a78521d-da1f-4489-b054-c672e7ceec2c",
   "metadata": {},
   "outputs": [],
   "source": []
  }
 ],
 "metadata": {
  "kernelspec": {
   "display_name": "Python 3 (ipykernel)",
   "language": "python",
   "name": "python3"
  },
  "language_info": {
   "codemirror_mode": {
    "name": "ipython",
    "version": 3
   },
   "file_extension": ".py",
   "mimetype": "text/x-python",
   "name": "python",
   "nbconvert_exporter": "python",
   "pygments_lexer": "ipython3",
   "version": "3.8.10"
  }
 },
 "nbformat": 4,
 "nbformat_minor": 5
}
