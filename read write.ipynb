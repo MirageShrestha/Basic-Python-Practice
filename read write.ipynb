{
 "cells": [
  {
   "cell_type": "code",
   "execution_count": 4,
   "id": "de590462-160c-45b3-834f-104c74227b09",
   "metadata": {},
   "outputs": [
    {
     "name": "stdin",
     "output_type": "stream",
     "text": [
      "enter some text: my name is mirage shrestha\n"
     ]
    },
    {
     "data": {
      "text/plain": [
       "'my name is mirage shrestha'"
      ]
     },
     "execution_count": 4,
     "metadata": {},
     "output_type": "execute_result"
    }
   ],
   "source": [
    "path = r'mirage.txt'\n",
    "textWrite = input('enter some text:')\n",
    "\n",
    "opened_file=open(path,'w')\n",
    "opened_file.write(textWrite)\n",
    "opened_file.close()\n",
    "\n",
    "opened_file=open(path,'r')\n",
    "content=opened_file.read()\n",
    "opened_file.close()\n",
    "\n",
    "content\n"
   ]
  },
  {
   "cell_type": "code",
   "execution_count": 5,
   "id": "f18d5634-71f4-4c1d-a81a-d6e47f9b1642",
   "metadata": {},
   "outputs": [
    {
     "name": "stdin",
     "output_type": "stream",
     "text": [
      "enter anything: Hello, I am learning python\n"
     ]
    },
    {
     "data": {
      "text/plain": [
       "'Hello, I am learning python'"
      ]
     },
     "execution_count": 5,
     "metadata": {},
     "output_type": "execute_result"
    }
   ],
   "source": [
    "textWrite=input('enter anything:')\n",
    "try:\n",
    "    opened_file=open(path, 'w')\n",
    "    opened_file.write(textWrite)\n",
    "except:\n",
    "    print('An error occurred')\n",
    "finally:\n",
    "    opened_file.close()\n",
    "\n",
    "try:\n",
    "    opened_file=open(path, 'r')\n",
    "    content=opened_file.read()\n",
    "except:\n",
    "    print('An error occurred')\n",
    "finally:\n",
    "    opened_file.close()\n",
    "\n",
    "content"
   ]
  },
  {
   "cell_type": "code",
   "execution_count": 14,
   "id": "174444f6-d9a5-412d-a1df-29a47bfbda77",
   "metadata": {},
   "outputs": [
    {
     "name": "stderr",
     "output_type": "stream",
     "text": [
      ".\n",
      "----------------------------------------------------------------------\n",
      "Ran 1 test in 0.001s\n",
      "\n",
      "OK\n"
     ]
    }
   ],
   "source": [
    "import unittest\n",
    "\n",
    "def greeting(name):\n",
    "    return f\"Hello, {name}!\"\n",
    "\n",
    "# Test case class\n",
    "class TestExample(unittest.TestCase):\n",
    "    def test_greeting(self):\n",
    "        self.assertEqual(greeting(\"Mirage\"), \"Hello, Mirage!\")\n",
    "        self.assertEqual(greeting(\"Rachel\"), \"Hello, Rachel!\")\n",
    "\n",
    "# Run the tests\n",
    "if __name__ == '__main__':\n",
    "    unittest.main(argv=[''], exit=False) \n"
   ]
  },
  {
   "cell_type": "code",
   "execution_count": null,
   "id": "dd1f4d36-9af8-4877-8674-e546e9cf9fd8",
   "metadata": {},
   "outputs": [],
   "source": []
  }
 ],
 "metadata": {
  "kernelspec": {
   "display_name": "Python 3 (ipykernel)",
   "language": "python",
   "name": "python3"
  },
  "language_info": {
   "codemirror_mode": {
    "name": "ipython",
    "version": 3
   },
   "file_extension": ".py",
   "mimetype": "text/x-python",
   "name": "python",
   "nbconvert_exporter": "python",
   "pygments_lexer": "ipython3",
   "version": "3.8.10"
  }
 },
 "nbformat": 4,
 "nbformat_minor": 5
}
