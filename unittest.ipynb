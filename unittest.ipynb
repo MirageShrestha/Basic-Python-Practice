{
 "cells": [
  {
   "cell_type": "code",
   "execution_count": 4,
   "id": "fd6fc2aa-5dbb-40ed-975e-ec9784925071",
   "metadata": {},
   "outputs": [
    {
     "name": "stdin",
     "output_type": "stream",
     "text": [
      "Enter a number:  4\n"
     ]
    },
    {
     "name": "stdout",
     "output_type": "stream",
     "text": [
      "even\n"
     ]
    }
   ],
   "source": [
    "def check_even_odd(n):\n",
    "    if n % 2 == 0:\n",
    "        return \"even\"\n",
    "    else:\n",
    "        return \"odd\"\n",
    "\n",
    "ui = int(input(\"Enter a number: \"))\n",
    "print(check_even_odd(ui))\n"
   ]
  },
  {
   "cell_type": "code",
   "execution_count": 21,
   "id": "9de8bc96-913f-4dea-9be2-be36c15e7d97",
   "metadata": {},
   "outputs": [
    {
     "name": "stderr",
     "output_type": "stream",
     "text": [
      "test_even_numbers (__main__.TestCheckEvenOdd) ... ok\n",
      "test_odd_numbers (__main__.TestCheckEvenOdd) ... ok\n",
      "test_even_number (__main__.TestEvenOdd) ... ok\n",
      "test_odd_number (__main__.TestEvenOdd) ... ok\n",
      "test_file_not_found (__main__.TestFileOperations) ... ok\n",
      "test_read_write (__main__.TestFileOperations) ... "
     ]
    },
    {
     "name": "stdout",
     "output_type": "stream",
     "text": [
      "Error: non_existent.txt not found.\n",
      "Successfully written to test_output.txt.\n"
     ]
    },
    {
     "name": "stderr",
     "output_type": "stream",
     "text": [
      "ok\n",
      "\n",
      "----------------------------------------------------------------------\n",
      "Ran 6 tests in 0.007s\n",
      "\n",
      "OK\n"
     ]
    }
   ],
   "source": [
    "import unittest\n",
    "\n",
    "class TestCheckEvenOdd(unittest.TestCase):\n",
    "    \n",
    "    def test_even_numbers(self):\n",
    "        self.assertEqual(check_even_odd(2), \"even\")\n",
    "        self.assertEqual(check_even_odd(0), \"even\")\n",
    "        self.assertEqual(check_even_odd(-8), \"even\")\n",
    "        \n",
    "    def test_odd_numbers(self):\n",
    "        self.assertEqual(check_even_odd(1), \"odd\")\n",
    "        self.assertEqual(check_even_odd(5), \"odd\")\n",
    "        self.assertEqual(check_even_odd(-3), \"odd\")\n",
    "\n",
    "if __name__ == '__main__':\n",
    "    unittest.main(argv=[''], verbosity=2, exit=False)\n"
   ]
  },
  {
   "cell_type": "code",
   "execution_count": 16,
   "id": "be32f2d2-12db-4f35-a151-da811d8ab9eb",
   "metadata": {},
   "outputs": [
    {
     "name": "stdout",
     "output_type": "stream",
     "text": [
      "Error: input.txt not found.\n"
     ]
    }
   ],
   "source": [
    "def read_from_file(input_file):\n",
    "    \"\"\"Reads content from the input_file and returns it.\"\"\"\n",
    "    try:\n",
    "        with open(input_file, 'r') as file:\n",
    "            return file.read()\n",
    "    except FileNotFoundError:\n",
    "        print(f\"Error: {input_file} not found.\")\n",
    "        return None\n",
    "    except IOError as e:\n",
    "        print(f\"Error reading {input_file}: {e}\")\n",
    "        return None\n",
    "\n",
    "def write_to_file(output_file, content):\n",
    "    \"\"\"Writes content to the output_file.\"\"\"\n",
    "    try:\n",
    "        with open(output_file, 'w') as file:\n",
    "            file.write(content)\n",
    "            print(f\"Successfully written to {output_file}.\")\n",
    "    except IOError as e:\n",
    "        print(f\"Error writing to {output_file}: {e}\")\n",
    "\n",
    "# Example usage\n",
    "if __name__ == \"__main__\":\n",
    "    input_file = \"input.txt\"\n",
    "    output_file = \"output.txt\"\n",
    "    \n",
    "    content = read_from_file(input_file)\n",
    "    if content:\n",
    "        write_to_file(output_file, content)\n"
   ]
  },
  {
   "cell_type": "code",
   "execution_count": null,
   "id": "6c1a572f-7e9c-4650-9606-cf94c5a5251e",
   "metadata": {},
   "outputs": [],
   "source": []
  }
 ],
 "metadata": {
  "kernelspec": {
   "display_name": "Python 3 (ipykernel)",
   "language": "python",
   "name": "python3"
  },
  "language_info": {
   "codemirror_mode": {
    "name": "ipython",
    "version": 3
   },
   "file_extension": ".py",
   "mimetype": "text/x-python",
   "name": "python",
   "nbconvert_exporter": "python",
   "pygments_lexer": "ipython3",
   "version": "3.8.10"
  }
 },
 "nbformat": 4,
 "nbformat_minor": 5
}
